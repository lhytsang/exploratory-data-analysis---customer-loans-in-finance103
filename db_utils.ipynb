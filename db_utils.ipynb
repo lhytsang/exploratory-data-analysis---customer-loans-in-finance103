{
 "cells": [
  {
   "cell_type": "code",
   "execution_count": null,
   "metadata": {},
   "outputs": [],
   "source": [
    "import db_utils\n",
    "import yaml\n",
    "\n",
    "with open('credentials.yaml') as file:\n",
    "    credentials_dict = yaml.safe_load(file)\n",
    "    \n",
    "credentials = db_utils.RDSDatabaseConnector(credentials_dict)\n",
    "loan_payments = credentials.initialise_database()"
   ]
  }
 ],
 "metadata": {
  "language_info": {
   "name": "python"
  }
 },
 "nbformat": 4,
 "nbformat_minor": 2
}
