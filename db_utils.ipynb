{
 "cells": [
  {
   "cell_type": "code",
   "execution_count": 1,
   "metadata": {},
   "outputs": [
    {
     "name": "stdout",
     "output_type": "stream",
     "text": [
      "funded_amount: 3007 null values, 5.54%\n",
      "term: 4772 null values, 8.8%\n",
      "int_rate: 5169 null values, 9.53%\n",
      "employment_length: 2118 null values, 3.91%\n",
      "last_payment_date: 73 null values, 0.13%\n",
      "last_credit_pull_date: 7 null values, 0.01%\n",
      "collections_12_mths_ex_med: 51 null values, 0.09%\n",
      "[5.42, 5.79, 5.99, 6.00, 6.03, ..., 25.83, 25.89, 25.99, 26.06, NaN]\n",
      "Length: 458\n",
      "Categories (457, float64): [5.42, 5.79, 5.99, 6.00, ..., 25.83, 25.89, 25.99, 26.06]\n"
     ]
    }
   ],
   "source": [
    "import db_utils\n",
    "import yaml, pandas as pd, numpy as np\n",
    "\n",
    "with open('credentials.yaml') as file:\n",
    "    credentials_dict = yaml.safe_load(file)\n",
    "    \n",
    "credentials = db_utils.RDSDatabaseConnector(credentials_dict)\n",
    "loan_payments = credentials.initialise_database()\n",
    "\n",
    "credentials.save_file(loan_payments, 'new_file.csv')\n",
    "database = pd.read_csv('new_file.csv', index_col = 'id')\n",
    "\n",
    "cleaned_data = db_utils.DataTransform(database)\n",
    "\n",
    "date_data = ['issue_date', 'earliest_credit_line', 'last_payment_date', 'next_payment_date',\n",
    "             'last_credit_pull_date']\n",
    "\n",
    "categorical_data = ['member_id', 'term', 'int_rate', 'grade', 'sub_grade', 'employment_length', 'home_ownership', 'verification_status', 'loan_status', \n",
    "                    'payment_plan', 'purpose', 'policy_code', 'application_type']\n",
    "\n",
    "non_numeric_data = date_data + categorical_data \n",
    "column_headings = database.columns.values.tolist()\n",
    "numeric_data = [column for column in column_headings if column not in non_numeric_data]\n",
    "\n",
    "for date_column in date_data:\n",
    "    database, date_column = cleaned_data.date_data(database, date_column)\n",
    "\n",
    "for categories in categorical_data:\n",
    "    database, categories = cleaned_data.change_type(database, categories, 'category')\n",
    "\n",
    "df_info = db_utils.DataFrameInfo(database)\n",
    "\n",
    "for column in column_headings:\n",
    "    null_vals, null_percentage = df_info.missing(database, column)\n",
    "    null_percentage = round(null_percentage, 2)\n",
    "    if null_percentage > float(50):\n",
    "        database = database.drop(column, axis=1)\n",
    "    elif float(0) < null_percentage < float(50):\n",
    "        print(f'{column}: {null_vals} null values, {null_percentage}%')\n",
    "\n",
    "funded_amount_column = list(database['funded_amount'])\n",
    "loan_amount_column = list(database['loan_amount'])\n",
    "sub_grade_list = list(database['sub_grade'])\n",
    "int_rate_list = list(database['int_rate'])\n",
    "\n",
    "database = database.sort_values(by=['int_rate'])\n",
    "credentials.save_file(database, 'new_file_2.csv')\n",
    "\n",
    "for index in range(54231):\n",
    "    if np.isnan(funded_amount_column[index]):\n",
    "        funded_amount_column[index] = loan_amount_column[index]\n",
    "    \n",
    "    if np.isnan(int_rate_list[index]):\n",
    "        int_rate_list.remove(int_rate_list[index])\n",
    "        sub_grade_list.remove(sub_grade_list[index])\n",
    "\n",
    "int_rate_amount = dict(zip(sub_grade_list, int_rate_list))\n",
    "\n",
    "database['funded_amount'] = funded_amount_column\n",
    "\n",
    "\n",
    "\n",
    "\n"
   ]
  }
 ],
 "metadata": {
  "kernelspec": {
   "display_name": "Python 3",
   "language": "python",
   "name": "python3"
  },
  "language_info": {
   "codemirror_mode": {
    "name": "ipython",
    "version": 3
   },
   "file_extension": ".py",
   "mimetype": "text/x-python",
   "name": "python",
   "nbconvert_exporter": "python",
   "pygments_lexer": "ipython3",
   "version": "3.11.7"
  }
 },
 "nbformat": 4,
 "nbformat_minor": 2
}
