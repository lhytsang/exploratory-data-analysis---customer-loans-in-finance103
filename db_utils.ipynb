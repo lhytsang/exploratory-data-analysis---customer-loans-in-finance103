{
 "cells": [
  {
   "cell_type": "code",
   "execution_count": 3,
   "metadata": {},
   "outputs": [
    {
     "name": "stdout",
     "output_type": "stream",
     "text": [
      "funded_amount: 3007 null values, 23130.76923076923%%\n",
      "\n",
      "int_rate: 5169 null values, 64612.5%%\n",
      "\n",
      "employment_length: 2118 null values, 12458.823529411766%%\n",
      "\n",
      "mths_since_last_delinq: 31002 null values, 140918.18181818182%%\n",
      "\n",
      "mths_since_last_record: 48050 null values, 218409.0909090909%%\n",
      "\n",
      "last_payment_date: 73 null values, 429.4117647058823%%\n",
      "\n",
      "next_payment_date: 32608 null values, 191811.76470588235%%\n",
      "\n",
      "last_credit_pull_date: 7 null values, 33.33333333333333%%\n",
      "\n",
      "collections_12_mths_ex_med: 51 null values, 196.15384615384613%%\n",
      "\n",
      "mths_since_last_major_derog: 46732 null values, 173081.4814814815%%\n",
      "\n"
     ]
    }
   ],
   "source": [
    "import db_utils\n",
    "import yaml, pandas as pd, numpy as np, re\n",
    "\n",
    "with open('credentials.yaml') as file:\n",
    "    credentials_dict = yaml.safe_load(file)\n",
    "    \n",
    "credentials = db_utils.RDSDatabaseConnector(credentials_dict)\n",
    "loan_payments = credentials.initialise_database()\n",
    "\n",
    "credentials.save_file(loan_payments)\n",
    "database = pd.read_csv('new_file.csv', index_col = 'id')\n",
    "\n",
    "cleaned_data = db_utils.DataTransform(database)\n",
    "\n",
    "date_data = ['issue_date', 'earliest_credit_line', 'last_payment_date', 'next_payment_date',\n",
    "             'last_credit_pull_date']\n",
    "\n",
    "categorical_data = ['member_id', 'term', 'grade', 'sub_grade', 'employment_length', 'home_ownership', 'verification_status', 'loan_status', \n",
    "                    'payment_plan', 'purpose', 'policy_code', 'application_type']\n",
    "\n",
    "database['term'] = [re.sub('\\D', '', str(string).replace(' ', '')) for string in database['term']]\n",
    "\n",
    "non_numeric_data = date_data + categorical_data \n",
    "column_headings = database.columns.values.tolist()\n",
    "numeric_data = [column for column in column_headings if column not in non_numeric_data]\n",
    "\n",
    "for date_column in date_data:\n",
    "    database, date_column = cleaned_data.date_data(database, date_column)\n",
    "\n",
    "for categories in categorical_data:\n",
    "    database, categories = cleaned_data.change_type(database, categories, 'category')\n",
    "\n",
    "df_info = db_utils.DataFrameInfo(database)\n",
    "\n",
    "for column in column_headings:\n",
    "    null_vals, null_percentage = df_info.missing(database, column)\n",
    "    if null_percentage != float(0):\n",
    "        print(f'{column}: {null_vals} null values, {null_percentage}%%\\n')"
   ]
  }
 ],
 "metadata": {
  "kernelspec": {
   "display_name": "Python 3",
   "language": "python",
   "name": "python3"
  },
  "language_info": {
   "codemirror_mode": {
    "name": "ipython",
    "version": 3
   },
   "file_extension": ".py",
   "mimetype": "text/x-python",
   "name": "python",
   "nbconvert_exporter": "python",
   "pygments_lexer": "ipython3",
   "version": "3.11.7"
  }
 },
 "nbformat": 4,
 "nbformat_minor": 2
}
