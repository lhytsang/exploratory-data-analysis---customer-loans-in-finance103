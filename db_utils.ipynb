{
 "cells": [
  {
   "cell_type": "code",
   "execution_count": 7,
   "metadata": {},
   "outputs": [
    {
     "ename": "TypeError",
     "evalue": "RDSDatabaseConnector.save_file() takes 2 positional arguments but 3 were given",
     "output_type": "error",
     "traceback": [
      "\u001b[1;31m---------------------------------------------------------------------------\u001b[0m",
      "\u001b[1;31mTypeError\u001b[0m                                 Traceback (most recent call last)",
      "Cell \u001b[1;32mIn[7], line 10\u001b[0m\n\u001b[0;32m      7\u001b[0m credentials \u001b[38;5;241m=\u001b[39m db_utils\u001b[38;5;241m.\u001b[39mRDSDatabaseConnector(credentials_dict)\n\u001b[0;32m      8\u001b[0m loan_payments \u001b[38;5;241m=\u001b[39m credentials\u001b[38;5;241m.\u001b[39minitialise_database()\n\u001b[1;32m---> 10\u001b[0m \u001b[43mcredentials\u001b[49m\u001b[38;5;241;43m.\u001b[39;49m\u001b[43msave_file\u001b[49m\u001b[43m(\u001b[49m\u001b[43mloan_payments\u001b[49m\u001b[43m,\u001b[49m\u001b[43m \u001b[49m\u001b[38;5;124;43m'\u001b[39;49m\u001b[38;5;124;43mnew_file.csv\u001b[39;49m\u001b[38;5;124;43m'\u001b[39;49m\u001b[43m)\u001b[49m\n\u001b[0;32m     11\u001b[0m database \u001b[38;5;241m=\u001b[39m pd\u001b[38;5;241m.\u001b[39mread_csv(\u001b[38;5;124m'\u001b[39m\u001b[38;5;124mnew_file.csv\u001b[39m\u001b[38;5;124m'\u001b[39m, index_col \u001b[38;5;241m=\u001b[39m \u001b[38;5;124m'\u001b[39m\u001b[38;5;124mid\u001b[39m\u001b[38;5;124m'\u001b[39m)\n\u001b[0;32m     13\u001b[0m cleaned_data \u001b[38;5;241m=\u001b[39m db_utils\u001b[38;5;241m.\u001b[39mDataTransform(database)\n",
      "\u001b[1;31mTypeError\u001b[0m: RDSDatabaseConnector.save_file() takes 2 positional arguments but 3 were given"
     ]
    }
   ],
   "source": [
    "import db_utils\n",
    "import yaml, pandas as pd, numpy as np\n",
    "\n",
    "with open('credentials.yaml') as file:\n",
    "    credentials_dict = yaml.safe_load(file)\n",
    "    \n",
    "credentials = db_utils.RDSDatabaseConnector(credentials_dict)\n",
    "loan_payments = credentials.initialise_database()\n",
    "\n",
    "credentials.save_file(loan_payments, 'new_file.csv')\n",
    "database = pd.read_csv('new_file.csv', index_col = 'id')\n",
    "\n",
    "cleaned_data = db_utils.DataTransform(database)\n",
    "\n",
    "date_data = ['issue_date', 'earliest_credit_line', 'last_payment_date', 'next_payment_date',\n",
    "             'last_credit_pull_date']\n",
    "\n",
    "categorical_data = ['member_id', 'term', 'int_rate', 'grade', 'sub_grade', 'employment_length', 'home_ownership', 'verification_status', 'loan_status', \n",
    "                    'payment_plan', 'purpose', 'policy_code', 'application_type']\n",
    "\n",
    "non_numeric_data = date_data + categorical_data \n",
    "column_headings = database.columns.values.tolist()\n",
    "numeric_data = [column for column in column_headings if column not in non_numeric_data]\n",
    "\n",
    "for date_column in date_data:\n",
    "    database, date_column = cleaned_data.date_data(database, date_column)\n",
    "\n",
    "for categories in categorical_data:\n",
    "    database, categories = cleaned_data.change_type(database, categories, 'category')\n",
    "\n",
    "df_info = db_utils.DataFrameInfo(database)\n",
    "\n",
    "for column in column_headings:\n",
    "    null_vals, null_percentage = df_info.missing(database, column)\n",
    "    null_percentage = round(null_percentage, 2)\n",
    "    if null_percentage > float(50):\n",
    "        database = database.drop(column, axis=1)\n",
    "    elif float(0) < null_percentage < float(50):\n",
    "        print(f'{column}: {null_vals} null values, {null_percentage}%')\n",
    "\n",
    "funded_amount_column = list(database['funded_amount'])\n",
    "loan_amount_column = list(database['loan_amount'])\n",
    "\n",
    "database = database.sort_values(by=['int_rate'])\n",
    "int_rate_values = df_info.unique_vals(database, 'int_rate')\n",
    "print(int_rate_values)\n",
    "\n",
    "for index in range(54231):\n",
    "    if np.isnan(funded_amount_column[index]):\n",
    "        funded_amount_column[index] = loan_amount_column[index]\n",
    "\n",
    "database['funded_amount'] = funded_amount_column\n",
    "\n",
    "credentials.save_file(database, 'new_file_2.csv')\n",
    "\n",
    "\n"
   ]
  }
 ],
 "metadata": {
  "kernelspec": {
   "display_name": "Python 3",
   "language": "python",
   "name": "python3"
  },
  "language_info": {
   "codemirror_mode": {
    "name": "ipython",
    "version": 3
   },
   "file_extension": ".py",
   "mimetype": "text/x-python",
   "name": "python",
   "nbconvert_exporter": "python",
   "pygments_lexer": "ipython3",
   "version": "3.11.7"
  }
 },
 "nbformat": 4,
 "nbformat_minor": 2
}
