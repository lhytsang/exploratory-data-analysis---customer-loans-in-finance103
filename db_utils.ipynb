{
 "cells": [
  {
   "cell_type": "markdown",
   "metadata": {},
   "source": [
    "# Exploratory Data Analysis - Customer loans in finance "
   ]
  },
  {
   "cell_type": "markdown",
   "metadata": {},
   "source": [
    "## Accessing the data "
   ]
  },
  {
   "cell_type": "markdown",
   "metadata": {},
   "source": [
    "Importing files and modules needed to access and manipulate the data given within this notebook"
   ]
  },
  {
   "cell_type": "code",
   "execution_count": 20,
   "metadata": {},
   "outputs": [],
   "source": [
    "import db_utils\n",
    "import df_transforms\n",
    "import df_utils\n",
    "import matplotlib.pyplot as plt\n",
    "import numpy as np\n",
    "import pandas as pd\n",
    "import plotly.express as px\n",
    "import plotly.io as pio\n",
    "import scipy\n",
    "import seaborn as sns\n",
    "import yaml\n",
    "pio.renderers.default = \"notebook\""
   ]
  },
  {
   "cell_type": "markdown",
   "metadata": {},
   "source": [
    "Using the 'RDSDatabaseConnector' class to initialise the database and load into a CSV file"
   ]
  },
  {
   "cell_type": "code",
   "execution_count": 21,
   "metadata": {},
   "outputs": [],
   "source": [
    "with open('credentials.yaml') as file:\n",
    "    credentials_dict = yaml.safe_load(file)\n",
    "    \n",
    "credentials = db_utils.RDSDatabaseConnector(credentials_dict)\n",
    "loan_payments = credentials.initialise_database()\n",
    "credentials.save_file(loan_payments, 'new_file.csv')\n",
    "\n",
    "database = credentials.load_csv('new_file.csv')\n"
   ]
  },
  {
   "cell_type": "markdown",
   "metadata": {},
   "source": [
    "Printing the first 10 rows of the database so that we can see all of the database columns as well as the information each column contains"
   ]
  },
  {
   "cell_type": "code",
   "execution_count": 22,
   "metadata": {},
   "outputs": [
    {
     "data": {
      "text/html": [
       "<div>\n",
       "<style scoped>\n",
       "    .dataframe tbody tr th:only-of-type {\n",
       "        vertical-align: middle;\n",
       "    }\n",
       "\n",
       "    .dataframe tbody tr th {\n",
       "        vertical-align: top;\n",
       "    }\n",
       "\n",
       "    .dataframe thead th {\n",
       "        text-align: right;\n",
       "    }\n",
       "</style>\n",
       "<table border=\"1\" class=\"dataframe\">\n",
       "  <thead>\n",
       "    <tr style=\"text-align: right;\">\n",
       "      <th></th>\n",
       "      <th>id</th>\n",
       "      <th>member_id</th>\n",
       "      <th>loan_amount</th>\n",
       "      <th>funded_amount</th>\n",
       "      <th>funded_amount_inv</th>\n",
       "      <th>term</th>\n",
       "      <th>int_rate</th>\n",
       "      <th>instalment</th>\n",
       "      <th>grade</th>\n",
       "      <th>sub_grade</th>\n",
       "      <th>...</th>\n",
       "      <th>recoveries</th>\n",
       "      <th>collection_recovery_fee</th>\n",
       "      <th>last_payment_date</th>\n",
       "      <th>last_payment_amount</th>\n",
       "      <th>next_payment_date</th>\n",
       "      <th>last_credit_pull_date</th>\n",
       "      <th>collections_12_mths_ex_med</th>\n",
       "      <th>mths_since_last_major_derog</th>\n",
       "      <th>policy_code</th>\n",
       "      <th>application_type</th>\n",
       "    </tr>\n",
       "  </thead>\n",
       "  <tbody>\n",
       "    <tr>\n",
       "      <th>0</th>\n",
       "      <td>38676116</td>\n",
       "      <td>41461848</td>\n",
       "      <td>8000</td>\n",
       "      <td>8000.0</td>\n",
       "      <td>8000.0</td>\n",
       "      <td>36 months</td>\n",
       "      <td>7.49</td>\n",
       "      <td>248.82</td>\n",
       "      <td>A</td>\n",
       "      <td>A4</td>\n",
       "      <td>...</td>\n",
       "      <td>0.0</td>\n",
       "      <td>0.0</td>\n",
       "      <td>Jan-2022</td>\n",
       "      <td>248.82</td>\n",
       "      <td>Feb-2022</td>\n",
       "      <td>Jan-2022</td>\n",
       "      <td>0.0</td>\n",
       "      <td>5.0</td>\n",
       "      <td>1</td>\n",
       "      <td>INDIVIDUAL</td>\n",
       "    </tr>\n",
       "    <tr>\n",
       "      <th>1</th>\n",
       "      <td>38656203</td>\n",
       "      <td>41440010</td>\n",
       "      <td>13200</td>\n",
       "      <td>13200.0</td>\n",
       "      <td>13200.0</td>\n",
       "      <td>36 months</td>\n",
       "      <td>6.99</td>\n",
       "      <td>407.52</td>\n",
       "      <td>A</td>\n",
       "      <td>A3</td>\n",
       "      <td>...</td>\n",
       "      <td>0.0</td>\n",
       "      <td>0.0</td>\n",
       "      <td>Jan-2022</td>\n",
       "      <td>407.52</td>\n",
       "      <td>Feb-2022</td>\n",
       "      <td>Jan-2022</td>\n",
       "      <td>0.0</td>\n",
       "      <td>NaN</td>\n",
       "      <td>1</td>\n",
       "      <td>INDIVIDUAL</td>\n",
       "    </tr>\n",
       "    <tr>\n",
       "      <th>2</th>\n",
       "      <td>38656154</td>\n",
       "      <td>41439961</td>\n",
       "      <td>16000</td>\n",
       "      <td>16000.0</td>\n",
       "      <td>16000.0</td>\n",
       "      <td>36 months</td>\n",
       "      <td>7.49</td>\n",
       "      <td>497.63</td>\n",
       "      <td>A</td>\n",
       "      <td>A4</td>\n",
       "      <td>...</td>\n",
       "      <td>0.0</td>\n",
       "      <td>0.0</td>\n",
       "      <td>Oct-2021</td>\n",
       "      <td>12850.16</td>\n",
       "      <td>NaN</td>\n",
       "      <td>Oct-2021</td>\n",
       "      <td>0.0</td>\n",
       "      <td>NaN</td>\n",
       "      <td>1</td>\n",
       "      <td>INDIVIDUAL</td>\n",
       "    </tr>\n",
       "    <tr>\n",
       "      <th>3</th>\n",
       "      <td>38656128</td>\n",
       "      <td>41439934</td>\n",
       "      <td>15000</td>\n",
       "      <td>15000.0</td>\n",
       "      <td>15000.0</td>\n",
       "      <td>36 months</td>\n",
       "      <td>14.31</td>\n",
       "      <td>514.93</td>\n",
       "      <td>C</td>\n",
       "      <td>C4</td>\n",
       "      <td>...</td>\n",
       "      <td>0.0</td>\n",
       "      <td>0.0</td>\n",
       "      <td>Jun-2021</td>\n",
       "      <td>13899.67</td>\n",
       "      <td>NaN</td>\n",
       "      <td>Jun-2021</td>\n",
       "      <td>0.0</td>\n",
       "      <td>NaN</td>\n",
       "      <td>1</td>\n",
       "      <td>INDIVIDUAL</td>\n",
       "    </tr>\n",
       "    <tr>\n",
       "      <th>4</th>\n",
       "      <td>38656121</td>\n",
       "      <td>41439927</td>\n",
       "      <td>15000</td>\n",
       "      <td>15000.0</td>\n",
       "      <td>15000.0</td>\n",
       "      <td>36 months</td>\n",
       "      <td>6.03</td>\n",
       "      <td>456.54</td>\n",
       "      <td>A</td>\n",
       "      <td>A1</td>\n",
       "      <td>...</td>\n",
       "      <td>0.0</td>\n",
       "      <td>0.0</td>\n",
       "      <td>Jan-2022</td>\n",
       "      <td>456.54</td>\n",
       "      <td>Feb-2022</td>\n",
       "      <td>Jan-2022</td>\n",
       "      <td>0.0</td>\n",
       "      <td>NaN</td>\n",
       "      <td>1</td>\n",
       "      <td>INDIVIDUAL</td>\n",
       "    </tr>\n",
       "    <tr>\n",
       "      <th>5</th>\n",
       "      <td>38656111</td>\n",
       "      <td>41439917</td>\n",
       "      <td>2525</td>\n",
       "      <td>2525.0</td>\n",
       "      <td>2525.0</td>\n",
       "      <td>36 months</td>\n",
       "      <td>11.44</td>\n",
       "      <td>83.20</td>\n",
       "      <td>B</td>\n",
       "      <td>B4</td>\n",
       "      <td>...</td>\n",
       "      <td>0.0</td>\n",
       "      <td>0.0</td>\n",
       "      <td>Jan-2022</td>\n",
       "      <td>91.39</td>\n",
       "      <td>Feb-2022</td>\n",
       "      <td>Jan-2022</td>\n",
       "      <td>0.0</td>\n",
       "      <td>NaN</td>\n",
       "      <td>1</td>\n",
       "      <td>INDIVIDUAL</td>\n",
       "    </tr>\n",
       "    <tr>\n",
       "      <th>6</th>\n",
       "      <td>38656110</td>\n",
       "      <td>41439916</td>\n",
       "      <td>6675</td>\n",
       "      <td>6675.0</td>\n",
       "      <td>6675.0</td>\n",
       "      <td>NaN</td>\n",
       "      <td>21.99</td>\n",
       "      <td>254.89</td>\n",
       "      <td>E</td>\n",
       "      <td>E5</td>\n",
       "      <td>...</td>\n",
       "      <td>0.0</td>\n",
       "      <td>0.0</td>\n",
       "      <td>Mar-2021</td>\n",
       "      <td>6724.95</td>\n",
       "      <td>NaN</td>\n",
       "      <td>Mar-2021</td>\n",
       "      <td>0.0</td>\n",
       "      <td>NaN</td>\n",
       "      <td>1</td>\n",
       "      <td>INDIVIDUAL</td>\n",
       "    </tr>\n",
       "    <tr>\n",
       "      <th>7</th>\n",
       "      <td>38656067</td>\n",
       "      <td>41439872</td>\n",
       "      <td>26500</td>\n",
       "      <td>26500.0</td>\n",
       "      <td>26200.0</td>\n",
       "      <td>NaN</td>\n",
       "      <td>19.99</td>\n",
       "      <td>701.95</td>\n",
       "      <td>E</td>\n",
       "      <td>E3</td>\n",
       "      <td>...</td>\n",
       "      <td>0.0</td>\n",
       "      <td>0.0</td>\n",
       "      <td>Aug-2021</td>\n",
       "      <td>701.95</td>\n",
       "      <td>NaN</td>\n",
       "      <td>Jan-2022</td>\n",
       "      <td>0.0</td>\n",
       "      <td>43.0</td>\n",
       "      <td>1</td>\n",
       "      <td>INDIVIDUAL</td>\n",
       "    </tr>\n",
       "    <tr>\n",
       "      <th>8</th>\n",
       "      <td>38656063</td>\n",
       "      <td>41439868</td>\n",
       "      <td>10000</td>\n",
       "      <td>10000.0</td>\n",
       "      <td>10000.0</td>\n",
       "      <td>60 months</td>\n",
       "      <td>12.99</td>\n",
       "      <td>227.48</td>\n",
       "      <td>C</td>\n",
       "      <td>C2</td>\n",
       "      <td>...</td>\n",
       "      <td>0.0</td>\n",
       "      <td>0.0</td>\n",
       "      <td>Jan-2022</td>\n",
       "      <td>227.48</td>\n",
       "      <td>Feb-2022</td>\n",
       "      <td>Jan-2022</td>\n",
       "      <td>0.0</td>\n",
       "      <td>NaN</td>\n",
       "      <td>1</td>\n",
       "      <td>INDIVIDUAL</td>\n",
       "    </tr>\n",
       "    <tr>\n",
       "      <th>9</th>\n",
       "      <td>38656052</td>\n",
       "      <td>41439857</td>\n",
       "      <td>10000</td>\n",
       "      <td>NaN</td>\n",
       "      <td>10000.0</td>\n",
       "      <td>36 months</td>\n",
       "      <td>8.19</td>\n",
       "      <td>314.25</td>\n",
       "      <td>A</td>\n",
       "      <td>A5</td>\n",
       "      <td>...</td>\n",
       "      <td>0.0</td>\n",
       "      <td>0.0</td>\n",
       "      <td>Jan-2022</td>\n",
       "      <td>314.25</td>\n",
       "      <td>Feb-2022</td>\n",
       "      <td>Jan-2022</td>\n",
       "      <td>0.0</td>\n",
       "      <td>NaN</td>\n",
       "      <td>1</td>\n",
       "      <td>INDIVIDUAL</td>\n",
       "    </tr>\n",
       "  </tbody>\n",
       "</table>\n",
       "<p>10 rows × 43 columns</p>\n",
       "</div>"
      ],
      "text/plain": [
       "         id  member_id  loan_amount  funded_amount  funded_amount_inv  \\\n",
       "0  38676116   41461848         8000         8000.0             8000.0   \n",
       "1  38656203   41440010        13200        13200.0            13200.0   \n",
       "2  38656154   41439961        16000        16000.0            16000.0   \n",
       "3  38656128   41439934        15000        15000.0            15000.0   \n",
       "4  38656121   41439927        15000        15000.0            15000.0   \n",
       "5  38656111   41439917         2525         2525.0             2525.0   \n",
       "6  38656110   41439916         6675         6675.0             6675.0   \n",
       "7  38656067   41439872        26500        26500.0            26200.0   \n",
       "8  38656063   41439868        10000        10000.0            10000.0   \n",
       "9  38656052   41439857        10000            NaN            10000.0   \n",
       "\n",
       "        term  int_rate  instalment grade sub_grade  ... recoveries  \\\n",
       "0  36 months      7.49      248.82     A        A4  ...        0.0   \n",
       "1  36 months      6.99      407.52     A        A3  ...        0.0   \n",
       "2  36 months      7.49      497.63     A        A4  ...        0.0   \n",
       "3  36 months     14.31      514.93     C        C4  ...        0.0   \n",
       "4  36 months      6.03      456.54     A        A1  ...        0.0   \n",
       "5  36 months     11.44       83.20     B        B4  ...        0.0   \n",
       "6        NaN     21.99      254.89     E        E5  ...        0.0   \n",
       "7        NaN     19.99      701.95     E        E3  ...        0.0   \n",
       "8  60 months     12.99      227.48     C        C2  ...        0.0   \n",
       "9  36 months      8.19      314.25     A        A5  ...        0.0   \n",
       "\n",
       "  collection_recovery_fee  last_payment_date last_payment_amount  \\\n",
       "0                     0.0           Jan-2022              248.82   \n",
       "1                     0.0           Jan-2022              407.52   \n",
       "2                     0.0           Oct-2021            12850.16   \n",
       "3                     0.0           Jun-2021            13899.67   \n",
       "4                     0.0           Jan-2022              456.54   \n",
       "5                     0.0           Jan-2022               91.39   \n",
       "6                     0.0           Mar-2021             6724.95   \n",
       "7                     0.0           Aug-2021              701.95   \n",
       "8                     0.0           Jan-2022              227.48   \n",
       "9                     0.0           Jan-2022              314.25   \n",
       "\n",
       "  next_payment_date last_credit_pull_date collections_12_mths_ex_med  \\\n",
       "0          Feb-2022              Jan-2022                        0.0   \n",
       "1          Feb-2022              Jan-2022                        0.0   \n",
       "2               NaN              Oct-2021                        0.0   \n",
       "3               NaN              Jun-2021                        0.0   \n",
       "4          Feb-2022              Jan-2022                        0.0   \n",
       "5          Feb-2022              Jan-2022                        0.0   \n",
       "6               NaN              Mar-2021                        0.0   \n",
       "7               NaN              Jan-2022                        0.0   \n",
       "8          Feb-2022              Jan-2022                        0.0   \n",
       "9          Feb-2022              Jan-2022                        0.0   \n",
       "\n",
       "  mths_since_last_major_derog  policy_code  application_type  \n",
       "0                         5.0            1        INDIVIDUAL  \n",
       "1                         NaN            1        INDIVIDUAL  \n",
       "2                         NaN            1        INDIVIDUAL  \n",
       "3                         NaN            1        INDIVIDUAL  \n",
       "4                         NaN            1        INDIVIDUAL  \n",
       "5                         NaN            1        INDIVIDUAL  \n",
       "6                         NaN            1        INDIVIDUAL  \n",
       "7                        43.0            1        INDIVIDUAL  \n",
       "8                         NaN            1        INDIVIDUAL  \n",
       "9                         NaN            1        INDIVIDUAL  \n",
       "\n",
       "[10 rows x 43 columns]"
      ]
     },
     "execution_count": 22,
     "metadata": {},
     "output_type": "execute_result"
    }
   ],
   "source": [
    "database.head(10)"
   ]
  },
  {
   "cell_type": "markdown",
   "metadata": {},
   "source": [
    "Initialising 'DataFrameInfo' class so that we can print out information about the dataframe"
   ]
  },
  {
   "cell_type": "code",
   "execution_count": 23,
   "metadata": {},
   "outputs": [],
   "source": [
    "df_info = df_utils.DataFrameInfo(database)"
   ]
  },
  {
   "cell_type": "markdown",
   "metadata": {},
   "source": [
    "Printing information about the dataframe"
   ]
  },
  {
   "cell_type": "code",
   "execution_count": 24,
   "metadata": {},
   "outputs": [
    {
     "name": "stdout",
     "output_type": "stream",
     "text": [
      "<class 'pandas.core.frame.DataFrame'>\n",
      "Index: 54231 entries, 0 to 54230\n",
      "Data columns (total 43 columns):\n",
      " #   Column                       Non-Null Count  Dtype  \n",
      "---  ------                       --------------  -----  \n",
      " 0   id                           54231 non-null  int64  \n",
      " 1   member_id                    54231 non-null  int64  \n",
      " 2   loan_amount                  54231 non-null  int64  \n",
      " 3   funded_amount                51224 non-null  float64\n",
      " 4   funded_amount_inv            54231 non-null  float64\n",
      " 5   term                         49459 non-null  object \n",
      " 6   int_rate                     49062 non-null  float64\n",
      " 7   instalment                   54231 non-null  float64\n",
      " 8   grade                        54231 non-null  object \n",
      " 9   sub_grade                    54231 non-null  object \n",
      " 10  employment_length            52113 non-null  object \n",
      " 11  home_ownership               54231 non-null  object \n",
      " 12  annual_inc                   54231 non-null  float64\n",
      " 13  verification_status          54231 non-null  object \n",
      " 14  issue_date                   54231 non-null  object \n",
      " 15  loan_status                  54231 non-null  object \n",
      " 16  payment_plan                 54231 non-null  object \n",
      " 17  purpose                      54231 non-null  object \n",
      " 18  dti                          54231 non-null  float64\n",
      " 19  delinq_2yrs                  54231 non-null  int64  \n",
      " 20  earliest_credit_line         54231 non-null  object \n",
      " 21  inq_last_6mths               54231 non-null  int64  \n",
      " 22  mths_since_last_delinq       23229 non-null  float64\n",
      " 23  mths_since_last_record       6181 non-null   float64\n",
      " 24  open_accounts                54231 non-null  int64  \n",
      " 25  total_accounts               54231 non-null  int64  \n",
      " 26  out_prncp                    54231 non-null  float64\n",
      " 27  out_prncp_inv                54231 non-null  float64\n",
      " 28  total_payment                54231 non-null  float64\n",
      " 29  total_payment_inv            54231 non-null  float64\n",
      " 30  total_rec_prncp              54231 non-null  float64\n",
      " 31  total_rec_int                54231 non-null  float64\n",
      " 32  total_rec_late_fee           54231 non-null  float64\n",
      " 33  recoveries                   54231 non-null  float64\n",
      " 34  collection_recovery_fee      54231 non-null  float64\n",
      " 35  last_payment_date            54158 non-null  object \n",
      " 36  last_payment_amount          54231 non-null  float64\n",
      " 37  next_payment_date            21623 non-null  object \n",
      " 38  last_credit_pull_date        54224 non-null  object \n",
      " 39  collections_12_mths_ex_med   54180 non-null  float64\n",
      " 40  mths_since_last_major_derog  7499 non-null   float64\n",
      " 41  policy_code                  54231 non-null  int64  \n",
      " 42  application_type             54231 non-null  object \n",
      "dtypes: float64(20), int64(8), object(15)\n",
      "memory usage: 18.2+ MB\n",
      "None\n"
     ]
    }
   ],
   "source": [
    "print(df_info.info())"
   ]
  },
  {
   "cell_type": "markdown",
   "metadata": {},
   "source": [
    "Printing out the column names and the amount of unique values each column contains"
   ]
  },
  {
   "cell_type": "code",
   "execution_count": 25,
   "metadata": {},
   "outputs": [
    {
     "name": "stdout",
     "output_type": "stream",
     "text": [
      "Column name                         Number of unique values\n",
      "\n",
      "id                                  54231          \n",
      "member_id                           54231          \n",
      "loan_amount                         1083           \n",
      "funded_amount                       1123           \n",
      "funded_amount_inv                   5261           \n",
      "term                                3              \n",
      "int_rate                            458            \n",
      "instalment                          19940          \n",
      "grade                               7              \n",
      "sub_grade                           35             \n",
      "employment_length                   12             \n",
      "home_ownership                      5              \n",
      "annual_inc                          6132           \n",
      "verification_status                 3              \n",
      "issue_date                          61             \n",
      "loan_status                         9              \n",
      "payment_plan                        2              \n",
      "purpose                             14             \n",
      "dti                                 3611           \n",
      "delinq_2yrs                         16             \n",
      "earliest_credit_line                587            \n",
      "inq_last_6mths                      24             \n",
      "mths_since_last_delinq              101            \n",
      "mths_since_last_record              121            \n",
      "open_accounts                       48             \n",
      "total_accounts                      88             \n",
      "out_prncp                           17673          \n",
      "out_prncp_inv                       17872          \n",
      "total_payment                       51698          \n",
      "total_payment_inv                   51561          \n",
      "total_rec_prncp                     25117          \n",
      "total_rec_int                       49331          \n",
      "total_rec_late_fee                  1439           \n",
      "recoveries                          3599           \n",
      "collection_recovery_fee             2944           \n",
      "last_payment_date                   99             \n",
      "last_payment_amount                 38235          \n",
      "next_payment_date                   97             \n",
      "last_credit_pull_date               102            \n",
      "collections_12_mths_ex_med          6              \n",
      "mths_since_last_major_derog         114            \n",
      "policy_code                         1              \n",
      "application_type                    1              \n"
     ]
    }
   ],
   "source": [
    "print(\"{:<35} {:<15}\\n\".format('Column name','Number of unique values'))\n",
    "\n",
    "for col in database.columns:\n",
    "    print(\"{:<35} {:<15}\".format(col, len(df_info.unique_vals(col))))"
   ]
  },
  {
   "cell_type": "markdown",
   "metadata": {},
   "source": [
    "Splitting the columns into different dtype groups based on the type of data it contains as well as the number of unique values the column contains"
   ]
  },
  {
   "cell_type": "code",
   "execution_count": 26,
   "metadata": {},
   "outputs": [],
   "source": [
    "fixed_data = ['id','member_id']\n",
    "\n",
    "date_data = ['issue_date', 'earliest_credit_line', 'last_payment_date', 'next_payment_date', 'last_credit_pull_date']\n",
    "\n",
    "categorical_data = ['term', 'grade', 'sub_grade', 'employment_length', 'home_ownership', 'verification_status', \n",
    "                    'loan_status', 'payment_plan', 'purpose', 'policy_code', 'application_type']\n",
    "\n",
    "non_numeric_data = date_data + categorical_data + fixed_data\n",
    "numeric_data = [data_column for data_column in database.columns if data_column not in non_numeric_data]\n"
   ]
  },
  {
   "cell_type": "markdown",
   "metadata": {},
   "source": [
    "Initialising the 'DataTransform' class so that we can transform the columns of the dataframe into the correct dtype."
   ]
  },
  {
   "cell_type": "code",
   "execution_count": 27,
   "metadata": {},
   "outputs": [],
   "source": [
    "data_transform = df_transforms.DataTransform(database)"
   ]
  },
  {
   "cell_type": "markdown",
   "metadata": {},
   "source": [
    "Changing the dtypes of the columns which consists of only date data and ones that only consist of categories"
   ]
  },
  {
   "cell_type": "code",
   "execution_count": 28,
   "metadata": {},
   "outputs": [],
   "source": [
    "for date_column in date_data:\n",
    "    data_transform.date_data(date_column)\n",
    "\n",
    "for categories in categorical_data:\n",
    "    data_transform.change_type(categories, 'category')"
   ]
  },
  {
   "cell_type": "markdown",
   "metadata": {},
   "source": [
    "Checking the amount of null values in each column as well as the amount as a percentage of the whole column"
   ]
  },
  {
   "cell_type": "code",
   "execution_count": 29,
   "metadata": {},
   "outputs": [
    {
     "name": "stdout",
     "output_type": "stream",
     "text": [
      "Column name                         Number of missing values            Percentage of missing values\n",
      "\n",
      "id                                  0                                   0.0                 \n",
      "member_id                           0                                   0.0                 \n",
      "loan_amount                         0                                   0.0                 \n",
      "funded_amount                       3007                                5.54                \n",
      "funded_amount_inv                   0                                   0.0                 \n",
      "term                                4772                                8.8                 \n",
      "int_rate                            5169                                9.53                \n",
      "instalment                          0                                   0.0                 \n",
      "grade                               0                                   0.0                 \n",
      "sub_grade                           0                                   0.0                 \n",
      "employment_length                   2118                                3.91                \n",
      "home_ownership                      0                                   0.0                 \n",
      "annual_inc                          0                                   0.0                 \n",
      "verification_status                 0                                   0.0                 \n",
      "issue_date                          0                                   0.0                 \n",
      "loan_status                         0                                   0.0                 \n",
      "payment_plan                        0                                   0.0                 \n",
      "purpose                             0                                   0.0                 \n",
      "dti                                 0                                   0.0                 \n",
      "delinq_2yrs                         0                                   0.0                 \n",
      "earliest_credit_line                0                                   0.0                 \n",
      "inq_last_6mths                      0                                   0.0                 \n",
      "mths_since_last_delinq              31002                               57.17               \n",
      "mths_since_last_record              48050                               88.6                \n",
      "open_accounts                       0                                   0.0                 \n",
      "total_accounts                      0                                   0.0                 \n",
      "out_prncp                           0                                   0.0                 \n",
      "out_prncp_inv                       0                                   0.0                 \n",
      "total_payment                       0                                   0.0                 \n",
      "total_payment_inv                   0                                   0.0                 \n",
      "total_rec_prncp                     0                                   0.0                 \n",
      "total_rec_int                       0                                   0.0                 \n",
      "total_rec_late_fee                  0                                   0.0                 \n",
      "recoveries                          0                                   0.0                 \n",
      "collection_recovery_fee             0                                   0.0                 \n",
      "last_payment_date                   73                                  0.13                \n",
      "last_payment_amount                 0                                   0.0                 \n",
      "next_payment_date                   32608                               60.13               \n",
      "last_credit_pull_date               7                                   0.01                \n",
      "collections_12_mths_ex_med          51                                  0.09                \n",
      "mths_since_last_major_derog         46732                               86.17               \n",
      "policy_code                         0                                   0.0                 \n",
      "application_type                    0                                   0.0                 \n"
     ]
    }
   ],
   "source": [
    "print(\"{:<35} {:<35} {:<20}\\n\".format('Column name','Number of missing values','Percentage of missing values'))\n",
    "\n",
    "null_count = df_info.missing()\n",
    "\n",
    "for null_col, null_qty in null_count.items():\n",
    "    print(\"{:<35} {:<35} {:<20}\".format(null_col,null_qty[0],null_qty[1]))"
   ]
  },
  {
   "cell_type": "markdown",
   "metadata": {},
   "source": [
    "Dropping columns whose data consists of more than 50% null values"
   ]
  },
  {
   "cell_type": "code",
   "execution_count": 30,
   "metadata": {},
   "outputs": [],
   "source": [
    "for null_heading, null_amounts in null_count.items():\n",
    "    if null_amounts[1] > float(50):\n",
    "        database.drop(null_heading, axis=1, inplace=True)"
   ]
  },
  {
   "cell_type": "markdown",
   "metadata": {},
   "source": [
    "Making the 'funded_amount' column the same as the 'loan_amount' column to clear any missing values from the 'funded_amount' column."
   ]
  },
  {
   "cell_type": "code",
   "execution_count": 31,
   "metadata": {},
   "outputs": [],
   "source": [
    "database['funded_amount'] = database['loan_amount']"
   ]
  },
  {
   "cell_type": "markdown",
   "metadata": {},
   "source": [
    "Initialising the 'DataFrameTransform' method"
   ]
  },
  {
   "cell_type": "code",
   "execution_count": 32,
   "metadata": {},
   "outputs": [],
   "source": [
    "df_transform = df_transforms.DataFrameTransform(database)"
   ]
  },
  {
   "cell_type": "markdown",
   "metadata": {},
   "source": [
    "Making a dictionary 'fill_values' to add columns that have missing values as well as the values to fill them in with. Since the columns 'collections_12_mths_ex_med' and 'int_rate' columns are made up of float/integers, the missing values will be imputed using the mean of the column data. For the 'term' column, as it is categorical, its missing values will be imputed using thhe mode of the column values."
   ]
  },
  {
   "cell_type": "code",
   "execution_count": 33,
   "metadata": {},
   "outputs": [],
   "source": [
    "fill_values = {'collections_12_mths_ex_med': database['collections_12_mths_ex_med'].mean, 'term': database['term'].mode()[0], 'int_rate': database['int_rate'].mean}\n",
    "df_transform.fill_null(values= fill_values)"
   ]
  },
  {
   "cell_type": "markdown",
   "metadata": {},
   "source": [
    "In the next loop, we are checking and updating 3 columns:\n",
    "- 'collections_12_mths_ex_med': for this we are checking if the value is zero and whether or not a last payment date exists for this customer - if a last payment date exists, we can add 1 to the original value\n",
    "- 'last_payment_date': for this, we are checking if there are any missing values, if there is we replace them with the 'last_credit_pull_date' value\n",
    "- 'last_credit_pull_date': the same as 'last_payment_date' except we are replacing the missing values with the ones given in 'last_payment_date'"
   ]
  },
  {
   "cell_type": "code",
   "execution_count": 34,
   "metadata": {},
   "outputs": [],
   "source": [
    "for index in range(df_info.df_shape()[0]):\n",
    "    if database.loc[index, 'collections_12_mths_ex_med'] == 0 and database.loc[index, 'last_payment_date'] != 'NaT':\n",
    "        database.loc[index, 'collections_12_mths_ex_med'] += 1\n",
    "\n",
    "    if database.loc[index, 'last_payment_date'] == 0:\n",
    "        database.loc[index, 'last_payment_date'] = database.loc[index, 'last_credit_pull_date']\n",
    "\n",
    "    if database.loc[index, 'last_credit_pull_date'] == 0:\n",
    "        database.loc[index, 'last_credit_pull_date'] = database.loc[index, 'last_payment_date']"
   ]
  },
  {
   "cell_type": "markdown",
   "metadata": {},
   "source": [
    "Here, we are dropping rows with missing values in the 'employment_length' column"
   ]
  },
  {
   "cell_type": "code",
   "execution_count": 35,
   "metadata": {},
   "outputs": [],
   "source": [
    "database.dropna(subset=['employment_length'], inplace=True)"
   ]
  },
  {
   "cell_type": "markdown",
   "metadata": {},
   "source": [
    "Printing the skew values of each dataframe column"
   ]
  },
  {
   "cell_type": "code",
   "execution_count": 36,
   "metadata": {},
   "outputs": [
    {
     "name": "stdout",
     "output_type": "stream",
     "text": [
      "Column name                         Skew values    \n",
      "\n",
      "id                                  2.390272528374383\n",
      "member_id                           2.2227337400605944\n",
      "loan_amount                         0.7977492711809\n",
      "funded_amount                       0.7977492711809\n",
      "funded_amount_inv                   0.8055737930190529\n",
      "instalment                          0.9894926256453951\n",
      "annual_inc                          8.766706946736592\n",
      "dti                                 0.1947545915021053\n",
      "delinq_2yrs                         5.330268902354011\n",
      "inq_last_6mths                      3.2843306955572733\n",
      "open_accounts                       1.058217240142574\n",
      "total_accounts                      0.777274695617847\n",
      "out_prncp                           2.3589728684752065\n",
      "out_prncp_inv                       2.3594154508798\n",
      "total_payment                       1.2572156379380999\n",
      "total_payment_inv                   1.2449396374171213\n",
      "total_rec_prncp                     1.2484632424858777\n",
      "total_rec_int                       2.194036225654574\n",
      "total_rec_late_fee                  13.18644093613826\n",
      "recoveries                          14.133928797708258\n",
      "collection_recovery_fee             27.50567905719496\n",
      "last_payment_amount                 2.4788412503880877\n"
     ]
    }
   ],
   "source": [
    "df_info.print_skew(database)"
   ]
  },
  {
   "cell_type": "markdown",
   "metadata": {},
   "source": [
    "Making a copy of the database"
   ]
  },
  {
   "cell_type": "code",
   "execution_count": 37,
   "metadata": {},
   "outputs": [],
   "source": [
    "new_database = database.copy()"
   ]
  },
  {
   "cell_type": "markdown",
   "metadata": {},
   "source": [
    "Making a copy of the original skew values of each column"
   ]
  },
  {
   "cell_type": "code",
   "execution_count": 38,
   "metadata": {},
   "outputs": [],
   "source": [
    "original_skews = df_info.df_skew(database)"
   ]
  },
  {
   "cell_type": "markdown",
   "metadata": {},
   "source": [
    "Making a dataframe of the columns that have skew values greater than 2 "
   ]
  },
  {
   "cell_type": "code",
   "execution_count": 39,
   "metadata": {},
   "outputs": [],
   "source": [
    "skewed_data = database[[cols for cols, skews in original_skews.items() if abs(skews) > 2]]"
   ]
  },
  {
   "cell_type": "markdown",
   "metadata": {},
   "source": [
    "Making 3 dataframes that are all a copy of the above dataframe"
   ]
  },
  {
   "cell_type": "code",
   "execution_count": 40,
   "metadata": {},
   "outputs": [],
   "source": [
    "log_skewed_data = yeojohnson_skew = boxcox_skew = skewed_data.copy()"
   ]
  },
  {
   "cell_type": "markdown",
   "metadata": {},
   "source": [
    "Initialising the 'DataFrameTransform' class again with a different database as the parameter"
   ]
  },
  {
   "cell_type": "code",
   "execution_count": 42,
   "metadata": {},
   "outputs": [],
   "source": [
    "df2_transform = df_transforms.DataFrameTransform(new_database)"
   ]
  },
  {
   "cell_type": "markdown",
   "metadata": {},
   "source": [
    "Applying the Log Transform method, Yeo Johnson method and Box Cox method for correcting skew to the 'log_skewed_data', 'yeojohnson_skew' and 'boxcox_skew' dataframes respectively"
   ]
  },
  {
   "cell_type": "code",
   "execution_count": 43,
   "metadata": {},
   "outputs": [],
   "source": [
    "log_skewed_data = df2_transform.log_transform(log_skewed_data)\n",
    "yeojohnson_skew = df2_transform.yeojohnson_transform(yeojohnson_skew)\n",
    "boxcox_skew = df2_transform.boxcox_transform(boxcox_skew)"
   ]
  },
  {
   "cell_type": "markdown",
   "metadata": {},
   "source": [
    "Calculating the skew values after applying the transform methods"
   ]
  },
  {
   "cell_type": "code",
   "execution_count": 44,
   "metadata": {},
   "outputs": [],
   "source": [
    "log_skew = df_info.df_skew(log_skewed_data)\n",
    "yeo_skew = df_info.df_skew(yeojohnson_skew)\n",
    "box_skew = df_info.df_skew(boxcox_skew)"
   ]
  },
  {
   "cell_type": "markdown",
   "metadata": {},
   "source": [
    "In this next loop, we are comparing the skews produced by the different methods for each column and copying the column whose skew value is the smallest to the new dataframe."
   ]
  },
  {
   "cell_type": "code",
   "execution_count": null,
   "metadata": {},
   "outputs": [],
   "source": [
    "for column, col_vals in skewed_data.items():\n",
    "\n",
    "    col_skew = abs(original_skews.get(column))\n",
    "\n",
    "    log_col_skew = abs(log_skew[column])\n",
    "    yeo_col_skew = abs(yeo_skew[column])\n",
    "    \n",
    "    smallest_skew = min(log_col_skew, yeo_col_skew, col_skew)\n",
    "    \n",
    "    if column in boxcox_skew.columns:\n",
    "        box_col_skew = abs(box_skew[column])\n",
    "    \n",
    "        if box_col_skew <= smallest_skew:\n",
    "            new_database[column] = boxcox_skew.loc[:, column]\n",
    "\n",
    "    if smallest_skew == log_col_skew or smallest_skew == log_col_skew == yeo_col_skew:\n",
    "        new_database[column] = log_skewed_data.loc[:, column]\n",
    "    elif smallest_skew == yeo_col_skew:\n",
    "        new_database[column] = yeojohnson_skew.loc[:, column]"
   ]
  },
  {
   "cell_type": "markdown",
   "metadata": {},
   "source": [
    "Initialising the 'Plotter' class"
   ]
  },
  {
   "cell_type": "code",
   "execution_count": null,
   "metadata": {},
   "outputs": [],
   "source": [
    "df_plot = df_utils.Plotter(new_database)"
   ]
  },
  {
   "cell_type": "markdown",
   "metadata": {},
   "source": []
  },
  {
   "cell_type": "code",
   "execution_count": null,
   "metadata": {},
   "outputs": [],
   "source": []
  },
  {
   "cell_type": "code",
   "execution_count": null,
   "metadata": {},
   "outputs": [
    {
     "ename": "AttributeError",
     "evalue": "module 'db_utils' has no attribute 'DataFrameTransform'",
     "output_type": "error",
     "traceback": [
      "\u001b[0;31m---------------------------------------------------------------------------\u001b[0m",
      "\u001b[0;31mAttributeError\u001b[0m                            Traceback (most recent call last)",
      "Cell \u001b[0;32mIn[19], line 1\u001b[0m\n\u001b[0;32m----> 1\u001b[0m df2_transform \u001b[38;5;241m=\u001b[39m \u001b[43mdb_utils\u001b[49m\u001b[38;5;241;43m.\u001b[39;49m\u001b[43mDataFrameTransform\u001b[49m(new_database)\n\u001b[1;32m      3\u001b[0m original_skews \u001b[38;5;241m=\u001b[39m df_info\u001b[38;5;241m.\u001b[39mdf_skew(database)\n\u001b[1;32m      5\u001b[0m skewed_data \u001b[38;5;241m=\u001b[39m database[[cols \u001b[38;5;28;01mfor\u001b[39;00m cols, skews \u001b[38;5;129;01min\u001b[39;00m original_skews\u001b[38;5;241m.\u001b[39mitems() \u001b[38;5;28;01mif\u001b[39;00m skews \u001b[38;5;241m>\u001b[39m \u001b[38;5;241m2\u001b[39m]]\n",
      "\u001b[0;31mAttributeError\u001b[0m: module 'db_utils' has no attribute 'DataFrameTransform'"
     ]
    }
   ],
   "source": [
    "\n",
    "#   Removing extremely highly correlated columns in the dataframe\n",
    "\n",
    "data_corr_matrix = new_database.corr(numeric_only = True).abs()\n",
    "upper = data_corr_matrix.where(np.triu(np.ones(data_corr_matrix.shape), k=1).astype(bool))\n",
    "to_drop = [database_col for database_col in upper.columns if any(upper[database_col] > 0.95)]\n",
    "new_database.drop(to_drop, axis=1, inplace=True)"
   ]
  },
  {
   "cell_type": "code",
   "execution_count": null,
   "metadata": {},
   "outputs": [],
   "source": []
  },
  {
   "cell_type": "code",
   "execution_count": null,
   "metadata": {},
   "outputs": [],
   "source": [
    "''' \n",
    "Finding the amount of loans recovered and visualising the results.\n",
    "'''\n",
    "\n",
    "recovered_payments = unrecovered_payments = 0\n",
    "\n",
    "for element in new_database['out_prncp']:\n",
    "    if element > 0:\n",
    "        unrecovered_payments += 1\n",
    "    else:\n",
    "        recovered_payments += 1\n",
    "\n",
    "### Plotting a pie chart of the amount of recovered and unrecovered loans\n",
    "\n",
    "df_plot.plot_pie([unrecovered_payments, recovered_payments], ['Unrecovered payments', 'Recovered payments'], 'The amount of loans recovered against the investor funding and the total amount funded')"
   ]
  },
  {
   "cell_type": "code",
   "execution_count": null,
   "metadata": {},
   "outputs": [],
   "source": [
    "'''\n",
    "Visualising and finding the percentage of the total amount that would be recovered up to 6 months' in the future.\n",
    "'''\n",
    "\n",
    "for position, member in new_database.iterrows():\n",
    "    if member['loan_status'] in ['Current', 'In Grace Period']:\n",
    "        outstanding_principle = member['out_prncp']\n",
    "        instalment = member['instalment']\n",
    "\n",
    "        recovered_6months = 6 * instalment\n",
    "\n",
    "        if recovered_6months > outstanding_principle:\n",
    "            unrecovered_payments -= 1\n",
    "            recovered_payments += 1\n",
    "\n",
    "### Plotting a pie chart to show how much of the payments would be recovered up to 6 months in the future\n",
    "\n",
    "df_plot.plot_pie([unrecovered_payments, recovered_payments], ['Unrecovered payments up to 6 months in the future', 'Recovered payments up to 6 months in the future'], 'The amount of loans recovered against the investor funding and the total amount funded')"
   ]
  },
  {
   "cell_type": "code",
   "execution_count": null,
   "metadata": {},
   "outputs": [],
   "source": [
    "'''\n",
    "Calculating the percentage of loans that have been a loss (i.e. charged off)\n",
    "and the total amount that was paid towards these loans before being charged off.\n",
    "\n",
    "Calculating the loss in revenue these loans would have generated for the company if they had finished \n",
    "their term and visualising the loss projected over the remaining term of these loans.\n",
    "''' \n",
    "\n",
    "charged_off_loans = charged_off_total_paid = revenue_lost = 0\n",
    "term_int_column = new_database['term'].astype('str').map(pd.Series({'36 months': 36, '60 months': 60}))\n",
    "charged_off_members = []\n",
    "\n",
    "projected_losses = {}\n",
    "\n",
    "for index, row in new_database.iterrows(): \n",
    "    if 'Charged Off' in row['loan_status'] or row['loan_status'] == 'Default':\n",
    " \n",
    "        charged_off_loans += 1\n",
    "        charged_off_members.append(row)\n",
    "        loan_term = term_int_column[index]\n",
    "        loan_instalment = row['instalment']\n",
    "        total_paid = row['total_payment']\n",
    "\n",
    "\n",
    "        charged_off_total_paid += total_paid\n",
    "        payment_left = (loan_term * loan_instalment) - total_paid\n",
    "        instalments_left = round(payment_left/loan_instalment)\n",
    "        revenue_lost += payment_left\n",
    "        projected_losses[index] = [round(i*loan_instalment,2) for i in range(instalments_left)]\n",
    "\n",
    "charged_off_percentage = (charged_off_loans/df_info.df_shape()[0]) * 100\n",
    "\n",
    "print(f\"Percentage of loans charged off: {round(charged_off_percentage, 2)}%\")\n",
    "print(f\"Amount paid to the loand prior to being charged off: £{round(charged_off_total_paid, 2):,}\")\n",
    "print(f\"Loss in revenue: £{round(revenue_lost, 2):,}\")"
   ]
  },
  {
   "cell_type": "code",
   "execution_count": null,
   "metadata": {},
   "outputs": [],
   "source": [
    "### Plotting a graph of the loss projected over the remaining term of loans if they had finished their term\n",
    "\n",
    "projected_loss_df = pd.DataFrame.from_dict(dict([ (member,pd.Series(loss)) for member, loss in projected_losses.items() ]))\n",
    "ax = projected_loss_df.plot(title = 'A Graph Visualising the Loss Projected Over the Remaining Term of Charged Off Loans', \n",
    "                            xlabel= 'Number of Months', ylabel = 'Loss in revenue')\n",
    "ax.get_legend().remove()"
   ]
  },
  {
   "cell_type": "code",
   "execution_count": null,
   "metadata": {},
   "outputs": [],
   "source": [
    "'''\n",
    "Finding the percentage of users who are currently behind with their loan payments and what they currently \n",
    "represent as a percentage of all loans. Calculating how much loss the company would incur if their status was \n",
    "changed to Charged Off. \n",
    "\n",
    "If customers late on payments converted to Charged Off, calculating the percentage of total expected revenue \n",
    "these customers and the customers who have already defaulted on their loan represent.\n",
    "'''\n",
    "\n",
    "late_members = []\n",
    "late_payments = remaining_payments = total_payments = 0\n",
    "late_payment_markers = ['Late (16-30 days)', 'In Grace Period', 'Late (31-120 days)']\n",
    "\n",
    "for number, individual in new_database.iterrows():\n",
    "\n",
    "    total_payments += individual['total_payment'] \n",
    "\n",
    "    if individual['loan_status'] in late_payment_markers:\n",
    "        late_payments += 1\n",
    "        late_members.append(individual)\n",
    "\n",
    "        remaining_payments += individual['out_prncp'] \n",
    "\n",
    "total_loss = remaining_payments + revenue_lost\n",
    "late_payment_percentage = (late_payments/df_info.df_shape()[0]) * 100\n",
    "loss_percentage = (total_loss/total_payments) * 100\n",
    "\n",
    "print(f\"Number of late payments: {late_payments}\")\n",
    "print(f\"Percentage of loan payments that are late: {round(late_payment_percentage, 2)}%\")\n",
    "print(f\"Amount of loss if users with late loan payments were changed to Charged Off: £{round(remaining_payments,2)}\")\n",
    "print(f\"Percentage of total expected revenue that late and charged off loans represent: {round(loss_percentage, 2)}%\")"
   ]
  },
  {
   "cell_type": "code",
   "execution_count": null,
   "metadata": {},
   "outputs": [],
   "source": [
    "'''\n",
    "Analysing the data to visualise the possible indicators that a customer will not be able to pay the loan.\n",
    "'''\n",
    "\n",
    "charged_off_df = updated_charged_off_df = pd.DataFrame(charged_off_members).select_dtypes(exclude=['datetime64[ns]'])\n",
    "late_df = updated_late_df = pd.DataFrame(late_members).select_dtypes(exclude=['datetime64[ns]'])\n",
    "\n",
    "for col_title in categorical_data:\n",
    "    for col_index in range(len(categorical_data)):\n",
    "        crosstab = pd.crosstab([col_title], [categorical_data[col_index]])\n",
    "        chi_val, p_val, degree, freqs = scipy.stats.chi2_contingency(crosstab)\n",
    "        \n",
    "        if p_val < 0.05:\n",
    "            print(f\"Colummns {col_title} and {categorical_data[col_index]} have a relationship.\")\n",
    "\n",
    "updated_charged_off_df = df2_transform.dummy_df(charged_off_df, updated_charged_off_df)\n",
    "updated_late_df = df2_transform.dummy_df(late_df, updated_late_df)\n",
    "\n",
    "charged_off_corr_matrix = df_info.check_correlation(updated_charged_off_df)\n",
    "late_corr_matrix = df_info.check_correlation(updated_late_df)\n",
    "np.seterr(divide='ignore', invalid='ignore')\n",
    "\n",
    "charged_filter1 = charged_off_corr_matrix.abs() < 1\n",
    "charged_filter2 = charged_off_corr_matrix.abs() > 0.6\n",
    "late_filter1 = late_corr_matrix.abs() < 1\n",
    "late_filter2 = late_corr_matrix.abs() > 0.6\n",
    "\n",
    "charged_off_correlations = charged_off_corr_matrix.where(charged_filter1 & charged_filter2 & np.triu(np.ones((508,508)), k=1)).stack().sort_values()\n",
    "late_correlations = late_corr_matrix.where(late_filter1 & late_filter2 & np.triu(np.ones((223,223)), k=1)).stack().sort_values()\n",
    "\n",
    "unpaid_common_variables, late_variables, charged_off_variables = ([] for list_number in range(3))\n",
    "\n",
    "for late_term, late_correlation in late_correlations.items():\n",
    "    late_variables.append(late_term)\n",
    "    for charged_term, charged_correlation in charged_off_correlations.items():\n",
    "        charged_off_variables.append(charged_term)\n",
    "        if set(late_term) == set(charged_term):\n",
    "            unpaid_common_variables.append(late_term)\n",
    "\n",
    "late_variables = list(set(late_variables))\n",
    "charged_off_variables = list(set(charged_off_variables))\n",
    "\n",
    "print('The following variables have a strong correlation for all unpaid loans:')\n",
    "for unpaid_var in unpaid_common_variables:\n",
    "    print(f\"{unpaid_var[0]} and {unpaid_var[1]}\")\n",
    "\n",
    "print('\\n\\nThe following variables have a strong correlation for charged off loans:')\n",
    "for charged_var in charged_off_variables:\n",
    "    print(f\"{charged_var[0]} and {charged_var[1]}\") \n",
    "\n",
    "print('\\n\\nThe following variables have a strong correlation for late loans:')\n",
    "for late_var in late_variables:\n",
    "    print(f\"{late_var[0]} and {late_var[1]}\")"
   ]
  }
 ],
 "metadata": {
  "kernelspec": {
   "display_name": "Python 3",
   "language": "python",
   "name": "python3"
  },
  "language_info": {
   "codemirror_mode": {
    "name": "ipython",
    "version": 3
   },
   "file_extension": ".py",
   "mimetype": "text/x-python",
   "name": "python",
   "nbconvert_exporter": "python",
   "pygments_lexer": "ipython3",
   "version": "3.11.2"
  }
 },
 "nbformat": 4,
 "nbformat_minor": 2
}
